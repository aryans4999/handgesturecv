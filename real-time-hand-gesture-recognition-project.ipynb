{
 "cells": [
  {
   "cell_type": "markdown",
   "id": "18c733f9",
   "metadata": {
    "papermill": {
     "duration": 0.004746,
     "end_time": "2024-04-27T16:35:22.748908",
     "exception": false,
     "start_time": "2024-04-27T16:35:22.744162",
     "status": "completed"
    },
    "tags": []
   },
   "source": [
    "<a id=\"1.\"></a> \n",
    "# Installing and Importing Libraries"
   ]
  },
  {
   "cell_type": "code",
   "execution_count": 1,
   "id": "99af7ec5",
   "metadata": {
    "execution": {
     "iopub.execute_input": "2024-04-27T16:35:22.761114Z",
     "iopub.status.busy": "2024-04-27T16:35:22.760603Z",
     "iopub.status.idle": "2024-04-27T16:35:41.696349Z",
     "shell.execute_reply": "2024-04-27T16:35:41.694938Z"
    },
    "papermill": {
     "duration": 18.945314,
     "end_time": "2024-04-27T16:35:41.699355",
     "exception": false,
     "start_time": "2024-04-27T16:35:22.754041",
     "status": "completed"
    },
    "tags": []
   },
   "outputs": [
    {
     "name": "stdout",
     "output_type": "stream",
     "text": [
      "Requirement already satisfied: mediapipe in c:\\users\\admin\\appdata\\local\\programs\\python\\python312\\lib\\site-packages (0.10.18)\n",
      "Requirement already satisfied: opencv-python in c:\\users\\admin\\appdata\\local\\programs\\python\\python312\\lib\\site-packages (4.10.0.84)\n",
      "Requirement already satisfied: absl-py in c:\\users\\admin\\appdata\\local\\programs\\python\\python312\\lib\\site-packages (from mediapipe) (2.1.0)\n",
      "Requirement already satisfied: attrs>=19.1.0 in c:\\users\\admin\\appdata\\local\\programs\\python\\python312\\lib\\site-packages (from mediapipe) (23.2.0)\n",
      "Requirement already satisfied: flatbuffers>=2.0 in c:\\users\\admin\\appdata\\local\\programs\\python\\python312\\lib\\site-packages (from mediapipe) (24.3.25)\n",
      "Requirement already satisfied: jax in c:\\users\\admin\\appdata\\local\\programs\\python\\python312\\lib\\site-packages (from mediapipe) (0.4.35)\n",
      "Requirement already satisfied: jaxlib in c:\\users\\admin\\appdata\\local\\programs\\python\\python312\\lib\\site-packages (from mediapipe) (0.4.35)\n",
      "Requirement already satisfied: matplotlib in c:\\users\\admin\\appdata\\local\\programs\\python\\python312\\lib\\site-packages (from mediapipe) (3.9.1)\n",
      "Requirement already satisfied: numpy<2 in c:\\users\\admin\\appdata\\local\\programs\\python\\python312\\lib\\site-packages (from mediapipe) (1.26.4)\n",
      "Requirement already satisfied: opencv-contrib-python in c:\\users\\admin\\appdata\\local\\programs\\python\\python312\\lib\\site-packages (from mediapipe) (4.10.0.84)\n",
      "Requirement already satisfied: protobuf<5,>=4.25.3 in c:\\users\\admin\\appdata\\local\\programs\\python\\python312\\lib\\site-packages (from mediapipe) (4.25.5)\n",
      "Requirement already satisfied: sounddevice>=0.4.4 in c:\\users\\admin\\appdata\\local\\programs\\python\\python312\\lib\\site-packages (from mediapipe) (0.5.1)\n",
      "Requirement already satisfied: sentencepiece in c:\\users\\admin\\appdata\\local\\programs\\python\\python312\\lib\\site-packages (from mediapipe) (0.2.0)\n",
      "Requirement already satisfied: CFFI>=1.0 in c:\\users\\admin\\appdata\\local\\programs\\python\\python312\\lib\\site-packages (from sounddevice>=0.4.4->mediapipe) (1.16.0)\n",
      "Requirement already satisfied: ml-dtypes>=0.4.0 in c:\\users\\admin\\appdata\\local\\programs\\python\\python312\\lib\\site-packages (from jax->mediapipe) (0.5.0)\n",
      "Requirement already satisfied: opt-einsum in c:\\users\\admin\\appdata\\local\\programs\\python\\python312\\lib\\site-packages (from jax->mediapipe) (3.4.0)\n",
      "Requirement already satisfied: scipy>=1.10 in c:\\users\\admin\\appdata\\local\\programs\\python\\python312\\lib\\site-packages (from jax->mediapipe) (1.14.0)\n",
      "Requirement already satisfied: contourpy>=1.0.1 in c:\\users\\admin\\appdata\\local\\programs\\python\\python312\\lib\\site-packages (from matplotlib->mediapipe) (1.2.1)\n",
      "Requirement already satisfied: cycler>=0.10 in c:\\users\\admin\\appdata\\local\\programs\\python\\python312\\lib\\site-packages (from matplotlib->mediapipe) (0.12.1)\n",
      "Requirement already satisfied: fonttools>=4.22.0 in c:\\users\\admin\\appdata\\local\\programs\\python\\python312\\lib\\site-packages (from matplotlib->mediapipe) (4.53.1)\n",
      "Requirement already satisfied: kiwisolver>=1.3.1 in c:\\users\\admin\\appdata\\local\\programs\\python\\python312\\lib\\site-packages (from matplotlib->mediapipe) (1.4.5)\n",
      "Requirement already satisfied: packaging>=20.0 in c:\\users\\admin\\appdata\\local\\programs\\python\\python312\\lib\\site-packages (from matplotlib->mediapipe) (24.1)\n",
      "Requirement already satisfied: pillow>=8 in c:\\users\\admin\\appdata\\local\\programs\\python\\python312\\lib\\site-packages (from matplotlib->mediapipe) (10.4.0)\n",
      "Requirement already satisfied: pyparsing>=2.3.1 in c:\\users\\admin\\appdata\\local\\programs\\python\\python312\\lib\\site-packages (from matplotlib->mediapipe) (3.1.2)\n",
      "Requirement already satisfied: python-dateutil>=2.7 in c:\\users\\admin\\appdata\\local\\programs\\python\\python312\\lib\\site-packages (from matplotlib->mediapipe) (2.9.0.post0)\n",
      "Requirement already satisfied: pycparser in c:\\users\\admin\\appdata\\local\\programs\\python\\python312\\lib\\site-packages (from CFFI>=1.0->sounddevice>=0.4.4->mediapipe) (2.22)\n",
      "Requirement already satisfied: six>=1.5 in c:\\users\\admin\\appdata\\local\\programs\\python\\python312\\lib\\site-packages (from python-dateutil>=2.7->matplotlib->mediapipe) (1.16.0)\n"
     ]
    }
   ],
   "source": [
    "!pip install mediapipe opencv-python"
   ]
  },
  {
   "cell_type": "code",
   "execution_count": 2,
   "id": "d42ead26",
   "metadata": {
    "execution": {
     "iopub.execute_input": "2024-04-27T16:35:41.716786Z",
     "iopub.status.busy": "2024-04-27T16:35:41.716316Z",
     "iopub.status.idle": "2024-04-27T16:35:56.659534Z",
     "shell.execute_reply": "2024-04-27T16:35:56.658454Z"
    },
    "papermill": {
     "duration": 14.955389,
     "end_time": "2024-04-27T16:35:56.662550",
     "exception": false,
     "start_time": "2024-04-27T16:35:41.707161",
     "status": "completed"
    },
    "tags": []
   },
   "outputs": [],
   "source": [
    "import cv2\n",
    "import mediapipe as mp\n",
    "import numpy as np\n",
    "import os"
   ]
  },
  {
   "cell_type": "markdown",
   "id": "c3b5cf88",
   "metadata": {
    "papermill": {
     "duration": 0.007736,
     "end_time": "2024-04-27T16:35:56.678398",
     "exception": false,
     "start_time": "2024-04-27T16:35:56.670662",
     "status": "completed"
    },
    "tags": []
   },
   "source": [
    "<a id=\"2.\"></a> \n",
    "# Implementation of Hand Gesture Recognition System"
   ]
  },
  {
   "cell_type": "code",
   "execution_count": 3,
   "id": "535e27f0",
   "metadata": {
    "execution": {
     "iopub.execute_input": "2024-04-27T16:35:56.710401Z",
     "iopub.status.busy": "2024-04-27T16:35:56.709626Z",
     "iopub.status.idle": "2024-04-27T16:35:56.715256Z",
     "shell.execute_reply": "2024-04-27T16:35:56.714146Z"
    },
    "papermill": {
     "duration": 0.016979,
     "end_time": "2024-04-27T16:35:56.717600",
     "exception": false,
     "start_time": "2024-04-27T16:35:56.700621",
     "status": "completed"
    },
    "tags": []
   },
   "outputs": [],
   "source": [
    "mp_drawing = mp.solutions.drawing_utils\n",
    "mp_hands = mp.solutions.hands"
   ]
  },
  {
   "cell_type": "code",
   "execution_count": 4,
   "id": "dc6be0df",
   "metadata": {
    "execution": {
     "iopub.execute_input": "2024-04-27T16:35:56.735447Z",
     "iopub.status.busy": "2024-04-27T16:35:56.734031Z",
     "iopub.status.idle": "2024-04-27T16:35:56.742291Z",
     "shell.execute_reply": "2024-04-27T16:35:56.740893Z"
    },
    "papermill": {
     "duration": 0.019679,
     "end_time": "2024-04-27T16:35:56.744836",
     "exception": false,
     "start_time": "2024-04-27T16:35:56.725157",
     "status": "completed"
    },
    "tags": []
   },
   "outputs": [],
   "source": [
    "# Function to count opened fingers for both hands\n",
    "def count_opened_fingers(hand_landmarks):\n",
    "    \n",
    "    # Define finger landmark indices\n",
    "    finger_tip_indices = [4, 8, 12, 16, 20]\n",
    "    \n",
    "    # Count opened fingers\n",
    "    opened_fingers = 0\n",
    "    \n",
    "    for finger_tip_index in finger_tip_indices:\n",
    "        \n",
    "        # Check if the finger is opened (y-coordinate of finger tip landmark is higher than y-coordinate of its adjacent landmark)\n",
    "        if hand_landmarks.landmark[finger_tip_index].y < hand_landmarks.landmark[finger_tip_index - 1].y:\n",
    "            opened_fingers += 1\n",
    "    \n",
    "     # Return 0 if no fingers are opened\n",
    "    if opened_fingers == 0:\n",
    "        return 0\n",
    "    else:\n",
    "        return opened_fingers"
   ]
  },
  {
   "cell_type": "code",
   "execution_count": 5,
   "id": "3ae2da30",
   "metadata": {
    "execution": {
     "iopub.execute_input": "2024-04-27T16:35:56.761860Z",
     "iopub.status.busy": "2024-04-27T16:35:56.761446Z",
     "iopub.status.idle": "2024-04-27T16:35:56.853962Z",
     "shell.execute_reply": "2024-04-27T16:35:56.852773Z"
    },
    "papermill": {
     "duration": 0.104301,
     "end_time": "2024-04-27T16:35:56.856709",
     "exception": false,
     "start_time": "2024-04-27T16:35:56.752408",
     "status": "completed"
    },
    "tags": []
   },
   "outputs": [
    {
     "ename": "KeyboardInterrupt",
     "evalue": "",
     "output_type": "error",
     "traceback": [
      "\u001b[1;31m---------------------------------------------------------------------------\u001b[0m",
      "\u001b[1;31mKeyboardInterrupt\u001b[0m                         Traceback (most recent call last)",
      "Cell \u001b[1;32mIn[5], line 6\u001b[0m\n\u001b[0;32m      4\u001b[0m \u001b[38;5;28;01mwith\u001b[39;00m mp_hands\u001b[38;5;241m.\u001b[39mHands(min_detection_confidence\u001b[38;5;241m=\u001b[39m\u001b[38;5;241m0.8\u001b[39m, min_tracking_confidence\u001b[38;5;241m=\u001b[39m\u001b[38;5;241m0.5\u001b[39m, max_num_hands\u001b[38;5;241m=\u001b[39m\u001b[38;5;241m2\u001b[39m) \u001b[38;5;28;01mas\u001b[39;00m hands:\n\u001b[0;32m      5\u001b[0m     \u001b[38;5;28;01mwhile\u001b[39;00m cap\u001b[38;5;241m.\u001b[39misOpened():\n\u001b[1;32m----> 6\u001b[0m         ret, frame \u001b[38;5;241m=\u001b[39m \u001b[43mcap\u001b[49m\u001b[38;5;241;43m.\u001b[39;49m\u001b[43mread\u001b[49m\u001b[43m(\u001b[49m\u001b[43m)\u001b[49m\n\u001b[0;32m      7\u001b[0m         \u001b[38;5;28;01mif\u001b[39;00m \u001b[38;5;129;01mnot\u001b[39;00m ret:\n\u001b[0;32m      8\u001b[0m             \u001b[38;5;28;01mbreak\u001b[39;00m\n",
      "\u001b[1;31mKeyboardInterrupt\u001b[0m: "
     ]
    }
   ],
   "source": [
    "# Initialize webcam\n",
    "cap = cv2.VideoCapture(0)\n",
    "\n",
    "with mp_hands.Hands(min_detection_confidence=0.8, min_tracking_confidence=0.5, max_num_hands=2) as hands:\n",
    "    while cap.isOpened():\n",
    "        ret, frame = cap.read()\n",
    "        if not ret:\n",
    "            break\n",
    "\n",
    "        # Convert BGR to RGB\n",
    "        image = cv2.cvtColor(frame, cv2.COLOR_BGR2RGB)\n",
    "        \n",
    "        # Flip image horizontally\n",
    "        image = cv2.flip(image, 1)\n",
    "        \n",
    "        # Set flag\n",
    "        image.flags.writeable = False\n",
    "        \n",
    "        # Detections\n",
    "        results = hands.process(image)\n",
    "        \n",
    "        # Set flag to true\n",
    "        image.flags.writeable = True\n",
    "\n",
    "        # RGB 2 BGR\n",
    "        image = cv2.cvtColor(image, cv2.COLOR_RGB2BGR)\n",
    "        \n",
    "        if results.multi_hand_landmarks:\n",
    "            total_opened_fingers = 0\n",
    "            for hand_landmarks in results.multi_hand_landmarks:\n",
    "                \n",
    "                # Draw hand landmarks\n",
    "                mp_drawing.draw_landmarks(image, hand_landmarks, mp_hands.HAND_CONNECTIONS)\n",
    "                \n",
    "                # Count opened fingers for each hand\n",
    "                opened_fingers = count_opened_fingers(hand_landmarks)\n",
    "                \n",
    "                # Accumulate total opened fingers\n",
    "                total_opened_fingers += opened_fingers\n",
    "                \n",
    "                # Display count on screen for each hand\n",
    "                cv2.putText(image, str(opened_fingers),\n",
    "                            (int(hand_landmarks.landmark[0].x * image.shape[1]),\n",
    "                             int(hand_landmarks.landmark[0].y * image.shape[0]) + 30),\n",
    "                            cv2.FONT_HERSHEY_SIMPLEX, 1, (84, 44, 0), 2, cv2.LINE_AA)\n",
    "        \n",
    "         # Display total count for both hands\n",
    "            if total_opened_fingers == 10:\n",
    "                cv2.putText(image, \"10\", (570, 50),\n",
    "                            cv2.FONT_HERSHEY_SIMPLEX, 1, (84, 44, 0), 2, cv2.LINE_AA)\n",
    "            else:\n",
    "                cv2.putText(image, str(total_opened_fingers), (570, 50),\n",
    "                            cv2.FONT_HERSHEY_SIMPLEX, 1, (84, 44, 0), 2, cv2.LINE_AA)\n",
    "\n",
    "        # Rendering results\n",
    "        if results.multi_hand_landmarks:\n",
    "            for num, hand in enumerate(results.multi_hand_landmarks):\n",
    "                mp_drawing.draw_landmarks(image, hand, mp_hands.HAND_CONNECTIONS, \n",
    "                                        mp_drawing.DrawingSpec(color=(26, 0, 197),\n",
    "                                                               thickness=2, circle_radius=4),\n",
    "                                        mp_drawing.DrawingSpec(color=(246, 246, 253),\n",
    "                                                               thickness=2, circle_radius=2),\n",
    "                                         )\n",
    "        # Display image\n",
    "        cv2.imshow('Hand Tracking', image)\n",
    "\n",
    "        # Break loop if 'q' is pressed\n",
    "        if cv2.waitKey(1) & 0xFF == ord('q'):\n",
    "            break\n",
    "\n",
    "# Release webcam and close all windows\n",
    "cap.release()\n",
    "# cv2.destroyAllWindows()"
   ]
  }
 ],
 "metadata": {
  "kaggle": {
   "accelerator": "none",
   "dataSources": [
    {
     "datasetId": 4887602,
     "sourceId": 8239561,
     "sourceType": "datasetVersion"
    }
   ],
   "dockerImageVersionId": 30698,
   "isGpuEnabled": false,
   "isInternetEnabled": true,
   "language": "python",
   "sourceType": "notebook"
  },
  "kernelspec": {
   "display_name": "Python 3",
   "language": "python",
   "name": "python3"
  },
  "language_info": {
   "codemirror_mode": {
    "name": "ipython",
    "version": 3
   },
   "file_extension": ".py",
   "mimetype": "text/x-python",
   "name": "python",
   "nbconvert_exporter": "python",
   "pygments_lexer": "ipython3",
   "version": "3.12.4"
  },
  "papermill": {
   "default_parameters": {},
   "duration": 38.896605,
   "end_time": "2024-04-27T16:35:58.552252",
   "environment_variables": {},
   "exception": null,
   "input_path": "__notebook__.ipynb",
   "output_path": "__notebook__.ipynb",
   "parameters": {},
   "start_time": "2024-04-27T16:35:19.655647",
   "version": "2.5.0"
  },
  "toc-autonumbering": false,
  "toc-showcode": false,
  "toc-showmarkdowntxt": false,
  "toc-showtags": false
 },
 "nbformat": 4,
 "nbformat_minor": 5
}
